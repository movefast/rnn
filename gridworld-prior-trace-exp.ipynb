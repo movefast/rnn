{
 "cells": [
  {
   "cell_type": "markdown",
   "metadata": {},
   "source": [
    "### Imports"
   ]
  },
  {
   "cell_type": "code",
   "execution_count": 5,
   "metadata": {},
   "outputs": [],
   "source": [
    "%matplotlib inline\n",
    "import numpy as np\n",
    "import matplotlib.pyplot as plt\n",
    "import agent\n",
    "# from q_learning_agent import QLearningAgent\n",
    "from gridworld_with_door import MazeEnvironment\n",
    "from tqdm import tqdm\n",
    "from priority_sampling.nn_agent import LinearAgent as NNAgent\n",
    "from priority_sampling.nn_agent_sample import LinearAgent as NNAgentP\n",
    "from priority_sampling.rnn_agent_sample import RNNAgent as RNNAgentP\n",
    "from priority_sampling.rnn_agent import RNNAgent as RNNAgent\n",
    "from priority_sampling.rnn_agent_trace import RNNAgent as TraceAgent\n",
    "from priority_sampling.rnn_agent_trace_sample import RNNAgent as TraceSampleAgent\n",
    "from sarsa_agent import SarsaAgent\n",
    "from q_learning_agent import QLearningAgent\n",
    "from IPython.display import HTML, Image\n",
    "import numpy as np\n",
    "from matplotlib import pyplot as plt\n",
    "from matplotlib import animation\n",
    "# enable if ffmpeg codec is installed \n",
    "# plt.rcParams['animation.ffmpeg_path'] = '/anaconda3/envs/pytorch/bin/ffmpeg'"
   ]
  },
  {
   "cell_type": "code",
   "execution_count": 6,
   "metadata": {},
   "outputs": [],
   "source": [
    "plt.rcParams.update({'font.size': 15})\n",
    "plt.rcParams.update({'figure.figsize': [10,5]})"
   ]
  },
  {
   "cell_type": "markdown",
   "metadata": {},
   "source": [
    "### Helpers"
   ]
  },
  {
   "cell_type": "code",
   "execution_count": 7,
   "metadata": {},
   "outputs": [],
   "source": [
    "def run_episode(env, agent, state_visits=None, keep_history=False):\n",
    "    is_terminal = False\n",
    "    sum_of_rewards = 0\n",
    "    step_count = 0\n",
    "    \n",
    "    obs = env.env_start(keep_history=keep_history)\n",
    "    action = agent.agent_start(obs)\n",
    "    \n",
    "    if state_visits is not None:\n",
    "        state_visits[obs[0]] += 1\n",
    "\n",
    "    while not is_terminal:\n",
    "        reward, obs, is_terminal = env.env_step(action)\n",
    "        print(agent.steps,end='\\r')\n",
    "#         sum_of_rewards += reward\n",
    "        sum_of_rewards -= 1\n",
    "        step_count += 1\n",
    "        state = obs\n",
    "        if step_count == 500:\n",
    "            agent.agent_end(reward, state, append_buffer=False)\n",
    "#             action = agent.agent_step(reward, state)\n",
    "#             if hasattr(agent, 'buffer'):\n",
    "#                 agent.buffer.clear()\n",
    "            break\n",
    "        elif is_terminal:\n",
    "            agent.agent_end(reward, state, append_buffer=True)\n",
    "#             agent.agent_end(reward)\n",
    "        else:\n",
    "            action = agent.agent_step(reward, state)\n",
    "\n",
    "        if state_visits is not None:\n",
    "            state_visits[state[0]] += 1\n",
    "    \n",
    "    if keep_history:\n",
    "        history = env.history\n",
    "        env.env_cleanup()\n",
    "        return sum_of_rewards, history\n",
    "    else:\n",
    "        return sum_of_rewards"
   ]
  },
  {
   "cell_type": "code",
   "execution_count": 8,
   "metadata": {},
   "outputs": [],
   "source": [
    "def animate(history, name='history.gif'):\n",
    "    frames = len(history)\n",
    "    print(f\"Rendering {frames} frames...\")\n",
    "    fig = plt.figure(figsize=(6, 2))\n",
    "    fig_grid = fig.add_subplot(121)\n",
    "\n",
    "    def render_frame(i):\n",
    "        grid = history[i]\n",
    "        fig_grid.matshow(grid, vmin=-1, vmax=1, cmap='jet')\n",
    "    anim = animation.FuncAnimation(fig, render_frame, frames=frames, interval=100);\n",
    "    plt.close(anim._fig)\n",
    "    # Option a) if ffmpeg codec is installed, display animation with ffmpeg\n",
    "    # display(HTML(anim.to_html5_video()))\n",
    "    # Option b) save as gif and display\n",
    "    anim.save(name, dpi=80, writer=animation.PillowWriter(fps=20));\n",
    "    with open(name,'rb') as file:\n",
    "        display(Image(file.read()))"
   ]
  },
  {
   "cell_type": "markdown",
   "metadata": {},
   "source": [
    "### Experiment Setup"
   ]
  },
  {
   "cell_type": "code",
   "execution_count": 9,
   "metadata": {},
   "outputs": [],
   "source": [
    "def reload(obj):\n",
    "   import inspect\n",
    "   import imp\n",
    "   cur_mod = inspect.getmodule(obj)\n",
    "   imp.reload(cur_mod)\n",
    "   mod_name = cur_mod.__name__\n",
    "   obj_name = obj.__name__\n",
    "   #from mod_name import obj_name as obj\n",
    "   return getattr(__import__(mod_name, fromlist=[obj_name]), obj_name)"
   ]
  },
  {
   "cell_type": "code",
   "execution_count": 11,
   "metadata": {},
   "outputs": [],
   "source": [
    "# importlib.reload(inspect.getmodule(SumTree))\n",
    "# importlib.reload(inspect.getmodule(Memory))\n"
   ]
  },
  {
   "cell_type": "code",
   "execution_count": 75,
   "metadata": {},
   "outputs": [],
   "source": [
    "QLearningAgent = reload(QLearningAgent)\n",
    "# SarsaAgent = reload(SarsaAgent)\n",
    "RNNAgent = reload(RNNAgent)\n",
    "# NNAgent = reload(NNAgent)\n",
    "# NNAgentP = reload(NNAgentP)\n",
    "TraceAgent = reload(TraceAgent)\n",
    "RNNAgentP = reload(RNNAgentP)\n",
    "TraceSampleAgent = reload(TraceSampleAgent)\n",
    "\n",
    "agents = {\n",
    "#     \"Q-learning\": QLearningAgent,\n",
    "#     \"Linear\": LinearAgent,\n",
    "#     \"Sarsa\": QLearningAgent,\n",
    "#     \"NN\": NNAgent,\n",
    "#     \"NNP\": NNAgentP,\n",
    "#     \"RNN\": RNNAgent,\n",
    "#     \"RNN_MSE\": RNNAgent,\n",
    "#     \"RNN_Multi\": RNNAgent,\n",
    "#     \"RNN_Multi_MSE\": RNNAgent,\n",
    "    \"RNNP\": RNNAgentP,\n",
    "#     \"RNNP_MSE\": RNNAgentP,\n",
    "#     \"Trace\": TraceAgent,\n",
    "#     \"Trace_MSE\": TraceAgent,\n",
    "    \"TraceSample\": TraceSampleAgent\n",
    "}"
   ]
  },
  {
   "cell_type": "code",
   "execution_count": 63,
   "metadata": {},
   "outputs": [],
   "source": [
    "# temp_rnnp, temp_rnnp_mse = all_reward_sums['RNNP'], all_reward_sums['RNNP_MSE']\n",
    "# all_reward_sums['RNNP'], all_reward_sums['RNNP_MSE'] = [], []"
   ]
  },
  {
   "cell_type": "code",
   "execution_count": 64,
   "metadata": {},
   "outputs": [
    {
     "data": {
      "text/plain": [
       "SmoothL1Loss()"
      ]
     },
     "execution_count": 64,
     "metadata": {},
     "output_type": "execute_result"
    }
   ],
   "source": [
    "import inspect\n",
    "inspect.getmodule(RNNAgentP()).criterion"
   ]
  },
  {
   "cell_type": "code",
   "execution_count": 65,
   "metadata": {},
   "outputs": [
    {
     "data": {
      "text/plain": [
       "SmoothL1Loss()"
      ]
     },
     "execution_count": 65,
     "metadata": {},
     "output_type": "execute_result"
    }
   ],
   "source": [
    "import inspect\n",
    "inspect.getmodule(TraceSampleAgent()).criterion"
   ]
  },
  {
   "cell_type": "code",
   "execution_count": 66,
   "metadata": {},
   "outputs": [],
   "source": [
    "envs = {\n",
    "    'Grid-World': MazeEnvironment,\n",
    "}\n",
    "agent_infos = {\n",
    "    \"Q-learning\": {\"step_size\": .5},\n",
    "    \"Sarsa\": {\"step_size\": 1e-2, 'num_tilings': 4, 'num_tiles': 4, 'iht_size': 300},\n",
    "    \"Linear\": {\"step_size\": 1e-3},\n",
    "    \"NN\": {\"step_size\": 1e-3},\n",
    "    \"RNN\": {\"step_size\": 1e-3},\n",
    "    \"RNN_MSE\": {\"step_size\": 1e-3},\n",
    "    \"RNN_Multi\": {\"step_size\": 1e-3},\n",
    "    \"RNN_Multi_MSE\": {\"step_size\": 1e-3},\n",
    "    \"NNP\": {\"step_size\": 1e-3},\n",
    "    \"RNNP\": {\"step_size\": 1e-3},\n",
    "    \"RNNP_MSE\": {\"step_size\": 1e-3},\n",
    "    \"Trace\": {\"step_size\": 1e-3},\n",
    "    \"Trace_MSE\": {\"step_size\": 1e-3},\n",
    "    \"TraceSample\": {\"step_size\": 1e-3},\n",
    "}\n",
    "env_info = {\n",
    "    \"maze_dim\": [7, 7], \n",
    "    \"start_state\": [0, 6], \n",
    "    \"end_state\": [6, 6],\n",
    "    \"obstacles\": [[3, 3], [3, 4], [3, 5], [3, 6], [4, 3], [5, 3], [6, 3]],\n",
    "#     \"obstacles\":[],\n",
    "#     \"obstacles\": [[3, 3], [3, 5], [3, 6], [4, 3], [5, 3], [6, 3]],\n",
    "#     \"doors\": {tuple([6,0]):[3,4]},\n",
    "    \"doors\": {tuple([6,0]):[[3, 3], [3, 4], [3, 5], [3, 6]]},\n",
    "#     \"doors\": {tuple([2,4]):[3,4]},\n",
    "}"
   ]
  },
  {
   "cell_type": "markdown",
   "metadata": {},
   "source": [
    "### Train"
   ]
  },
  {
   "cell_type": "code",
   "execution_count": 67,
   "metadata": {},
   "outputs": [],
   "source": [
    "# all_reward_sums = {} # Contains sum of rewards during episode\n",
    "# all_state_visits = {} # Contains state visit counts during the last 10 episodes\n",
    "# all_history = {}"
   ]
  },
  {
   "cell_type": "code",
   "execution_count": 68,
   "metadata": {},
   "outputs": [],
   "source": [
    "# all_reward_sums['RNN'] = []\n",
    "# all_reward_sums_sarsa_tile_4 = all_reward_sums['Sarsa']\n",
    "# all_reward_sums['Sarsa'] = []"
   ]
  },
  {
   "cell_type": "code",
   "execution_count": 69,
   "metadata": {},
   "outputs": [],
   "source": [
    "# agent.buffer.tree.total()"
   ]
  },
  {
   "cell_type": "code",
   "execution_count": 70,
   "metadata": {},
   "outputs": [
    {
     "name": "stderr",
     "output_type": "stream",
     "text": [
      "  0%|          | 0/1 [00:00<?, ?it/s]\n",
      "  0%|          | 0/1 [00:00<?, ?it/s]\u001b[A"
     ]
    },
    {
     "name": "stdout",
     "output_type": "stream",
     "text": [
      "19isode 499\r"
     ]
    },
    {
     "name": "stderr",
     "output_type": "stream",
     "text": [
      "\n",
      "100%|██████████| 1/1 [24:05<00:00, 1445.81s/it]\u001b[A\n",
      "100%|██████████| 1/1 [24:05<00:00, 1445.81s/it]"
     ]
    },
    {
     "name": "stdout",
     "output_type": "stream",
     "text": [
      "23\r"
     ]
    },
    {
     "name": "stderr",
     "output_type": "stream",
     "text": [
      "\n"
     ]
    }
   ],
   "source": [
    "num_runs = 1\n",
    "num_episodes = 500\n",
    "Environment = envs['Grid-World']\n",
    "\n",
    "for algorithm in tqdm(list(agents.keys())):\n",
    "    all_reward_sums[algorithm] = []\n",
    "    all_state_visits[algorithm] = []\n",
    "    \n",
    "    for run in tqdm(range(num_runs)):\n",
    "        agent = agents[algorithm]()\n",
    "        env = Environment()\n",
    "        \n",
    "        env.env_init(env_info)\n",
    "        agent_info = {\"num_actions\": 4, \"num_states\": env.cols * env.rows, \"epsilon\": .1, \"step_size\": 0.5, \"discount\": .9} \n",
    "        agent_info[\"seed\"] = run\n",
    "        agent_info.update(agent_infos[algorithm])\n",
    "        np.random.seed(run)\n",
    "        agent.agent_init(agent_info)\n",
    "        \n",
    "        reward_sums = []\n",
    "        state_visits = np.zeros(env.cols * env.rows)\n",
    "        epsilon = 1\n",
    "        for episode in range(num_episodes):\n",
    "            print(f\"episode {episode}\",end='\\r')\n",
    "#             print(\"\")\n",
    "            agent.epsilon = epsilon\n",
    "            if episode < num_episodes - 10:\n",
    "                sum_of_rewards = run_episode(env, agent) \n",
    "            else: \n",
    "                # Runs an episode while keeping track of visited states and history\n",
    "                sum_of_rewards, history = run_episode(env, agent, state_visits, keep_history=True)\n",
    "                all_history.setdefault(algorithm, []).append(history)\n",
    "            epsilon *= 0.99\n",
    "            reward_sums.append(sum_of_rewards)\n",
    "        all_reward_sums[algorithm].append(reward_sums)\n",
    "        all_state_visits[algorithm].append(state_visits)"
   ]
  },
  {
   "cell_type": "code",
   "execution_count": 55,
   "metadata": {},
   "outputs": [
    {
     "ename": "AttributeError",
     "evalue": "'LinearAgent' object has no attribute 'rnn'",
     "output_type": "error",
     "traceback": [
      "\u001b[0;31m---------------------------------------------------------------------------\u001b[0m",
      "\u001b[0;31mAttributeError\u001b[0m                            Traceback (most recent call last)",
      "\u001b[0;32m<ipython-input-55-7f52fecc86bb>\u001b[0m in \u001b[0;36m<module>\u001b[0;34m\u001b[0m\n\u001b[0;32m----> 1\u001b[0;31m \u001b[0magent\u001b[0m\u001b[0;34m.\u001b[0m\u001b[0mrnn\u001b[0m\u001b[0;34m.\u001b[0m\u001b[0mactions\u001b[0m\u001b[0;34m\u001b[0m\u001b[0;34m\u001b[0m\u001b[0m\n\u001b[0m",
      "\u001b[0;31mAttributeError\u001b[0m: 'LinearAgent' object has no attribute 'rnn'"
     ]
    }
   ],
   "source": [
    "agent.rnn.actions"
   ]
  },
  {
   "cell_type": "code",
   "execution_count": 172,
   "metadata": {},
   "outputs": [
    {
     "data": {
      "text/plain": [
       "0.1"
      ]
     },
     "execution_count": 172,
     "metadata": {},
     "output_type": "execute_result"
    }
   ],
   "source": [
    "agent.epsilon"
   ]
  },
  {
   "cell_type": "code",
   "execution_count": 48,
   "metadata": {},
   "outputs": [
    {
     "data": {
      "text/plain": [
       "500"
      ]
     },
     "execution_count": 48,
     "metadata": {},
     "output_type": "execute_result"
    }
   ],
   "source": [
    "agent.train_steps"
   ]
  },
  {
   "cell_type": "code",
   "execution_count": 49,
   "metadata": {},
   "outputs": [
    {
     "data": {
      "text/plain": [
       "199"
      ]
     },
     "execution_count": 49,
     "metadata": {},
     "output_type": "execute_result"
    }
   ],
   "source": [
    "episode"
   ]
  },
  {
   "cell_type": "code",
   "execution_count": 50,
   "metadata": {},
   "outputs": [
    {
     "data": {
      "text/plain": [
       "1000"
      ]
     },
     "execution_count": 50,
     "metadata": {},
     "output_type": "execute_result"
    }
   ],
   "source": [
    "len(agent.buffer)"
   ]
  },
  {
   "cell_type": "code",
   "execution_count": 51,
   "metadata": {},
   "outputs": [
    {
     "data": {
      "text/plain": [
       "tensor([[ 0.0348, -0.0270,  0.0694,  0.1271,  0.0806, -0.0857,  0.1075,  0.1537,\n",
       "          0.1444,  0.1532,  0.1709,  0.0333,  0.0304,  0.0530,  0.0853,  0.0314,\n",
       "         -0.0238,  0.0804, -0.1845, -0.0182,  0.2372, -0.0248,  0.0449, -0.0173,\n",
       "          0.1451, -0.2200, -0.1881,  0.1172, -0.0535,  0.0267,  0.1051, -0.0246,\n",
       "         -0.0380,  0.0573, -0.0334, -0.1131, -0.1532,  0.2871,  0.0348,  0.1919,\n",
       "          0.0250,  0.0521, -0.0085, -0.0041, -0.0998, -0.0214, -0.0488, -0.0629,\n",
       "         -0.0942,  0.0443]], device='cuda:0')"
      ]
     },
     "execution_count": 51,
     "metadata": {},
     "output_type": "execute_result"
    }
   ],
   "source": [
    "agent.hidden"
   ]
  },
  {
   "cell_type": "markdown",
   "metadata": {},
   "source": [
    "### Evaluate Results"
   ]
  },
  {
   "cell_type": "code",
   "execution_count": 544,
   "metadata": {},
   "outputs": [],
   "source": [
    "from torch.nn import functional as F"
   ]
  },
  {
   "cell_type": "code",
   "execution_count": 551,
   "metadata": {},
   "outputs": [
    {
     "name": "stderr",
     "output_type": "stream",
     "text": [
      "/home/derek/anaconda3/envs/fpp/lib/python3.7/site-packages/ipykernel_launcher.py:1: UserWarning: Implicit dimension choice for softmax has been deprecated. Change the call to include dim=X as an argument.\n",
      "  \"\"\"Entry point for launching an IPython kernel.\n"
     ]
    },
    {
     "data": {
      "text/plain": [
       "array([0.44 , 0.292, 0.147, 0.062, 0.03 , 0.017, 0.008, 0.003, 0.001,\n",
       "       0.   ], dtype=float32)"
      ]
     },
     "execution_count": 551,
     "metadata": {},
     "output_type": "execute_result"
    }
   ],
   "source": [
    "np.round(F.softmax(agent.rnn.lambdas).detach().cpu().numpy(),3)"
   ]
  },
  {
   "cell_type": "code",
   "execution_count": 16,
   "metadata": {},
   "outputs": [
    {
     "data": {
      "text/plain": [
       "1000"
      ]
     },
     "execution_count": 16,
     "metadata": {},
     "output_type": "execute_result"
    }
   ],
   "source": [
    "len(agent.buffer)"
   ]
  },
  {
   "cell_type": "code",
   "execution_count": 179,
   "metadata": {},
   "outputs": [
    {
     "data": {
      "text/plain": [
       "22"
      ]
     },
     "execution_count": 179,
     "metadata": {},
     "output_type": "execute_result"
    }
   ],
   "source": [
    "agent.steps"
   ]
  },
  {
   "cell_type": "code",
   "execution_count": 182,
   "metadata": {},
   "outputs": [
    {
     "data": {
      "text/plain": [
       "-16"
      ]
     },
     "execution_count": 182,
     "metadata": {},
     "output_type": "execute_result"
    }
   ],
   "source": [
    "np.max(all_reward_sums['RNN'])"
   ]
  },
  {
   "cell_type": "code",
   "execution_count": 48,
   "metadata": {},
   "outputs": [
    {
     "data": {
      "text/plain": [
       "-14"
      ]
     },
     "execution_count": 48,
     "metadata": {},
     "output_type": "execute_result"
    }
   ],
   "source": [
    "all_reward_sums['Sarsa'][-1][-1]"
   ]
  },
  {
   "cell_type": "code",
   "execution_count": 258,
   "metadata": {},
   "outputs": [],
   "source": [
    "import inspect\n",
    "inspect.getmodule(agent).criterion"
   ]
  },
  {
   "cell_type": "code",
   "execution_count": 265,
   "metadata": {},
   "outputs": [
    {
     "data": {
      "text/plain": [
       "6"
      ]
     },
     "execution_count": 265,
     "metadata": {},
     "output_type": "execute_result"
    }
   ],
   "source": [
    "len(all_reward_sums['Trace'])"
   ]
  },
  {
   "cell_type": "code",
   "execution_count": 266,
   "metadata": {},
   "outputs": [],
   "source": [
    "all_reward_sums['Trace_MSE'] = []"
   ]
  },
  {
   "cell_type": "code",
   "execution_count": 532,
   "metadata": {},
   "outputs": [
    {
     "data": {
      "text/plain": [
       "(-34.675, -34.305)"
      ]
     },
     "execution_count": 532,
     "metadata": {},
     "output_type": "execute_result"
    }
   ],
   "source": [
    "np.mean(all_reward_sums['Trace'][0][100:]), np.mean(all_reward_sums['Trace_MSE'][0][100:])"
   ]
  },
  {
   "cell_type": "code",
   "execution_count": 534,
   "metadata": {},
   "outputs": [
    {
     "data": {
      "text/plain": [
       "(-93.428, -99.2816)"
      ]
     },
     "execution_count": 534,
     "metadata": {},
     "output_type": "execute_result"
    }
   ],
   "source": []
  },
  {
   "cell_type": "code",
   "execution_count": 533,
   "metadata": {},
   "outputs": [
    {
     "data": {
      "text/plain": [
       "(-127.6715, -142.2005, -80.4552, -82.7456)"
      ]
     },
     "execution_count": 533,
     "metadata": {},
     "output_type": "execute_result"
    }
   ],
   "source": [
    "np.mean(all_reward_sums['RNN']), np.mean(all_reward_sums['RNN_MSE']), np.mean(all_reward_sums['RNNP']), np.mean(all_reward_sums['RNNP_MSE']), \\\n",
    "np.mean(all_reward_sums['Trace']), np.mean(all_reward_sums['Trace_MSE'])"
   ]
  },
  {
   "cell_type": "code",
   "execution_count": 537,
   "metadata": {},
   "outputs": [
    {
     "data": {
      "text/plain": [
       "(-31.46625, -29.96375, -29.87, -29.844, -29.025833333333335, -28.252)"
      ]
     },
     "execution_count": 537,
     "metadata": {},
     "output_type": "execute_result"
    }
   ],
   "source": [
    "np.mean(np.array(all_reward_sums['RNN'])[:,300:]), np.mean(np.array(all_reward_sums['RNN_MSE'])[:,300:]), np.mean(np.array(all_reward_sums['RNNP'])[:,300:]), \\\n",
    "np.mean(np.array(all_reward_sums['RNNP_MSE'])[:,300:]), np.mean(np.array(all_reward_sums['Trace'])[:,300:]), np.mean(np.array(all_reward_sums['Trace_MSE'])[:,300:])"
   ]
  },
  {
   "cell_type": "code",
   "execution_count": 73,
   "metadata": {},
   "outputs": [
    {
     "data": {
      "text/plain": [
       "(-26.88, -27.18)"
      ]
     },
     "execution_count": 73,
     "metadata": {},
     "output_type": "execute_result"
    }
   ],
   "source": [
    "np.mean(all_reward_sums['TraceSample'][0][300:]), np.mean(all_reward_sums['RNNP'][0][300:])"
   ]
  },
  {
   "cell_type": "code",
   "execution_count": 33,
   "metadata": {},
   "outputs": [
    {
     "name": "stdout",
     "output_type": "stream",
     "text": [
      "Sarsa -29.634\n",
      "NN -26.844\n",
      "NN_P -28.154\n"
     ]
    }
   ],
   "source": [
    "for i, algorithm in enumerate(list(agents.keys())):\n",
    "    print(algorithm, np.mean(all_reward_sums[algorithm]))"
   ]
  },
  {
   "cell_type": "code",
   "execution_count": 77,
   "metadata": {},
   "outputs": [
    {
     "data": {
      "image/png": "[encoded data removed]",
      "text/plain": [
       "<Figure size 1440x720 with 1 Axes>"
      ]
     },
     "metadata": {
      "needs_background": "light"
     },
     "output_type": "display_data"
    }
   ],
   "source": [
    "plt.figure(figsize=(20,10))\n",
    "for i, algorithm in enumerate(list(agents.keys())):\n",
    "    algorithm_means = np.mean(all_reward_sums[algorithm], axis=0)\n",
    "    algorithm_stds = np.std(all_reward_sums[algorithm], axis=0)\n",
    "    plt.plot(algorithm_means, label=algorithm, alpha=0.5)\n",
    "    plt.fill_between(range(num_episodes), algorithm_means + algorithm_stds/np.sqrt(num_runs), algorithm_means - algorithm_stds/np.sqrt(num_runs), alpha=0.2)\n",
    "plt.ylabel(\"Sum of\\n rewards\\n during\\n episode\",rotation=0, labelpad=20)\n",
    "plt.xlabel(\"Episodes\")\n",
    "# plt.ylim(-100, -10)\n",
    "plt.plot([0,500],[-24,-24])\n",
    "\n",
    "plt.legend()\n",
    "plt.show()\n"
   ]
  },
  {
   "cell_type": "code",
   "execution_count": 150,
   "metadata": {},
   "outputs": [
    {
     "name": "stderr",
     "output_type": "stream",
     "text": [
      "/home/derek/anaconda3/envs/fpp/lib/python3.7/site-packages/numpy/core/fromnumeric.py:3335: RuntimeWarning: Mean of empty slice.\n",
      "  out=out, **kwargs)\n",
      "/home/derek/anaconda3/envs/fpp/lib/python3.7/site-packages/numpy/core/_methods.py:161: RuntimeWarning: invalid value encountered in double_scalars\n",
      "  ret = ret.dtype.type(ret / rcount)\n",
      "/home/derek/anaconda3/envs/fpp/lib/python3.7/site-packages/numpy/core/_methods.py:217: RuntimeWarning: Degrees of freedom <= 0 for slice\n",
      "  keepdims=keepdims)\n",
      "/home/derek/anaconda3/envs/fpp/lib/python3.7/site-packages/numpy/core/_methods.py:186: RuntimeWarning: invalid value encountered in true_divide\n",
      "  arrmean, rcount, out=arrmean, casting='unsafe', subok=False)\n",
      "/home/derek/anaconda3/envs/fpp/lib/python3.7/site-packages/numpy/core/_methods.py:209: RuntimeWarning: invalid value encountered in double_scalars\n",
      "  ret = ret.dtype.type(ret / rcount)\n"
     ]
    },
    {
     "data": {
      "image/png": "[encoded data removed]",
      "text/plain": [
       "<Figure size 1440x720 with 1 Axes>"
      ]
     },
     "metadata": {
      "needs_background": "light"
     },
     "output_type": "display_data"
    }
   ],
   "source": [
    "plt.figure(figsize=(20,10))\n",
    "for i, algorithm in enumerate(list(agents.keys())):\n",
    "    algorithm_means = np.mean(all_reward_sums[algorithm], axis=0)\n",
    "    algorithm_stds = np.std(all_reward_sums[algorithm], axis=0)\n",
    "    plt.plot(algorithm_means, label=algorithm, alpha=0.5)\n",
    "    plt.fill_between(range(num_episodes), algorithm_means + algorithm_stds/np.sqrt(num_runs), algorithm_means - algorithm_stds/np.sqrt(num_runs), alpha=0.2)\n",
    "plt.ylabel(\"Sum of\\n rewards\\n during\\n episode\",rotation=0, labelpad=20)\n",
    "plt.xlabel(\"Episodes\")\n",
    "# plt.ylim(-100, -10)\n",
    "plt.plot([0,500],[-14,-14])\n",
    "\n",
    "plt.legend()\n",
    "plt.show()\n"
   ]
  },
  {
   "cell_type": "code",
   "execution_count": 162,
   "metadata": {},
   "outputs": [
    {
     "data": {
      "image/png": "[encoded data removed]",
      "text/plain": [
       "<Figure size 720x360 with 2 Axes>"
      ]
     },
     "metadata": {
      "needs_background": "light"
     },
     "output_type": "display_data"
    }
   ],
   "source": [
    "for i, algorithm in enumerate(list(agents.keys())): \n",
    "    position = int(f\"32{i+1}\")\n",
    "    plt.subplot(position)\n",
    "    average_state_visits = np.array(all_state_visits[algorithm]).mean(axis=0)\n",
    "    grid_state_visits = average_state_visits.reshape((env.rows,env.cols))\n",
    "    plt.pcolormesh(grid_state_visits, edgecolors='gray', linewidth=2, cmap='jet')\n",
    "    plt.title(algorithm)\n",
    "    plt.axis('off')\n",
    "    cm = plt.get_cmap()\n",
    "    cm.set_bad('gray')\n",
    "\n",
    "    plt.subplots_adjust(bottom=0.0, right=0.7, top=1.0)\n",
    "    cax = plt.axes([0.85, 0.0, 0.075, 1.])\n",
    "cbar = plt.colorbar(cax=cax)\n",
    "cbar.ax.set_ylabel(\"Visits during\\n the last 10\\n episodes\", rotation=0, labelpad=70)\n",
    "plt.show()"
   ]
  },
  {
   "cell_type": "code",
   "execution_count": 56,
   "metadata": {},
   "outputs": [
    {
     "name": "stdout",
     "output_type": "stream",
     "text": [
      "Rendering 15 frames...\n"
     ]
    },
    {
     "data": {
      "image/png": "[encoded data removed]",
      "text/plain": [
       "<IPython.core.display.Image object>"
      ]
     },
     "metadata": {},
     "output_type": "display_data"
    }
   ],
   "source": [
    "animate(all_history['RNN'][-8][-100:], name='history_RNN.gif')"
   ]
  },
  {
   "cell_type": "code",
   "execution_count": 163,
   "metadata": {},
   "outputs": [
    {
     "name": "stdout",
     "output_type": "stream",
     "text": [
      "Rendering 25 frames...\n"
     ]
    },
    {
     "data": {
      "image/png": "[encoded data removed]",
      "text/plain": [
       "<IPython.core.display.Image object>"
      ]
     },
     "metadata": {},
     "output_type": "display_data"
    }
   ],
   "source": [
    "animate(all_history['RNNP'][-1], name='history_Linear.gif')"
   ]
  },
  {
   "cell_type": "code",
   "execution_count": 80,
   "metadata": {},
   "outputs": [
    {
     "name": "stdout",
     "output_type": "stream",
     "text": [
      "Rendering 26 frames...\n"
     ]
    },
    {
     "data": {
      "image/png": "[encoded data removed]",
      "text/plain": [
       "<IPython.core.display.Image object>"
      ]
     },
     "metadata": {},
     "output_type": "display_data"
    }
   ],
   "source": [
    "animate(all_history['NN_P'][-1], name='history_NNP.gif')"
   ]
  },
  {
   "cell_type": "code",
   "execution_count": null,
   "metadata": {},
   "outputs": [],
   "source": []
  },
  {
   "cell_type": "code",
   "execution_count": 81,
   "metadata": {},
   "outputs": [
    {
     "data": {
      "text/plain": [
       "[501, 24, 39, 27, 31, 77, 64, 34, 25, 21]"
      ]
     },
     "execution_count": 81,
     "metadata": {},
     "output_type": "execute_result"
    }
   ],
   "source": [
    "[len(x) for x in all_history['Sarsa'][-10:]]"
   ]
  },
  {
   "cell_type": "code",
   "execution_count": 82,
   "metadata": {},
   "outputs": [
    {
     "ename": "AttributeError",
     "evalue": "'SarsaAgent' object has no attribute 'nn'",
     "output_type": "error",
     "traceback": [
      "\u001b[0;31m---------------------------------------------------------------------------\u001b[0m",
      "\u001b[0;31mAttributeError\u001b[0m                            Traceback (most recent call last)",
      "\u001b[0;32m<ipython-input-82-e71367a315b2>\u001b[0m in \u001b[0;36m<module>\u001b[0;34m\u001b[0m\n\u001b[0;32m----> 1\u001b[0;31m \u001b[0magent\u001b[0m\u001b[0;34m.\u001b[0m\u001b[0mnn\u001b[0m\u001b[0;34m.\u001b[0m\u001b[0mweight\u001b[0m\u001b[0;34m.\u001b[0m\u001b[0mshape\u001b[0m\u001b[0;34m\u001b[0m\u001b[0;34m\u001b[0m\u001b[0m\n\u001b[0m",
      "\u001b[0;31mAttributeError\u001b[0m: 'SarsaAgent' object has no attribute 'nn'"
     ]
    }
   ],
   "source": [
    "agent.nn.weight.shape"
   ]
  },
  {
   "cell_type": "code",
   "execution_count": 11,
   "metadata": {},
   "outputs": [],
   "source": [
    "import torch"
   ]
  },
  {
   "cell_type": "code",
   "execution_count": 12,
   "metadata": {},
   "outputs": [],
   "source": [
    "def mask_grid(grid, blocks, mask_value=-100):\n",
    "   for i in range(grid.shape[0]):\n",
    "       for j in range(grid.shape[1]):\n",
    "           if [i,j] in blocks:\n",
    "               grid[i,j] = mask_value\n",
    "   grid = np.ma.masked_where(grid == mask_value, grid)\n",
    "   return grid"
   ]
  },
  {
   "cell_type": "code",
   "execution_count": 14,
   "metadata": {},
   "outputs": [],
   "source": [
    "# hidden = agent.rnn.initHidden()"
   ]
  },
  {
   "cell_type": "code",
   "execution_count": 15,
   "metadata": {},
   "outputs": [
    {
     "data": {
      "text/plain": [
       "tensor([[0., 0., 0., 0., 0., 0., 1., 0., 0., 0., 0., 0., 0., 0., 0., 0., 0., 0.,\n",
       "         0., 0., 0., 0., 0., 0., 0., 0., 0., 0., 0., 0., 0., 0., 0., 0., 0., 0.,\n",
       "         0., 0., 0., 0., 0., 0., 0., 0., 0., 0., 0., 0., 0.]], device='cuda:0')"
      ]
     },
     "execution_count": 15,
     "metadata": {},
     "output_type": "execute_result"
    }
   ],
   "source": [
    "agent.get_state_feature(env.get_state_features([0,6]))"
   ]
  },
  {
   "cell_type": "code",
   "execution_count": 16,
   "metadata": {},
   "outputs": [],
   "source": [
    "# def get_action_values_matrix(state):\n",
    "#     state = agent.get_state_feature(env.get_state_features(state))\n",
    "#     with torch.no_grad():\n",
    "#         current_q, _ = agent.rnn(state, hidden)\n",
    "#     current_q.squeeze_()\n",
    "#     temp = np.zeros((3,3))\n",
    "#     temp[0,1] = current_q[0]\n",
    "#     temp[1,2] = current_q[1]\n",
    "#     temp[2,1] = current_q[2]\n",
    "#     temp[1,0] = current_q[3]\n",
    "# #     temp[1,1] = current_q[4]\n",
    "#     return temp\n",
    "\n",
    "def get_action_values_matrix(state):\n",
    "    state = agent.get_state_feature(env.get_state_features(state))\n",
    "    with torch.no_grad():\n",
    "        current_q = agent.nn(state)\n",
    "    current_q.squeeze_()\n",
    "    temp = np.zeros((3,3))\n",
    "    temp[0,1] = current_q[0]\n",
    "    temp[1,2] = current_q[1]\n",
    "    temp[2,1] = current_q[2]\n",
    "    temp[1,0] = current_q[3]\n",
    "#     temp[1,1] = current_q[4]\n",
    "    return temp"
   ]
  },
  {
   "cell_type": "code",
   "execution_count": 17,
   "metadata": {},
   "outputs": [
    {
     "data": {
      "text/plain": [
       "array([[ 0.        , 17.44148445,  0.        ],\n",
       "       [17.45305061,  0.        , 17.6096611 ],\n",
       "       [ 0.        , 17.41506004,  0.        ]])"
      ]
     },
     "execution_count": 17,
     "metadata": {},
     "output_type": "execute_result"
    }
   ],
   "source": [
    "get_action_values_matrix([0,0])"
   ]
  },
  {
   "cell_type": "code",
   "execution_count": 33,
   "metadata": {},
   "outputs": [
    {
     "data": {
      "image/png": "[encoded data removed]",
      "text/plain": [
       "<Figure size 1512x1512 with 49 Axes>"
      ]
     },
     "metadata": {
      "needs_background": "light"
     },
     "output_type": "display_data"
    }
   ],
   "source": [
    "num_row, num_col = env.maze_dim\n",
    "plt.figure(1, figsize=(num_row*3, num_col*3))\n",
    "for i,row in enumerate(range(num_row-1,-1,-1)):\n",
    "    for col in range(num_col):\n",
    "        if [row,col] not in env.obstacles:\n",
    "            ax = plt.subplot(num_row, num_col, i*num_col + col + 1)\n",
    "            state = [row,col]\n",
    "            #            state_occupancy_map = mask_grid(np.mean(agent.m[:,state,:],axis=0).reshape(7,7),env.obstacles)\n",
    "            action_values_map = mask_grid(get_action_values_matrix(state), [[0,0],[1,1],[0,2],[2,0],[2,2]])\n",
    "            plt.axis('off')\n",
    "#            ax.imshow(action_values_map,origin='lower',cmap='Greys')\n",
    "            ax.matshow(action_values_map,cmap='Blues')\n",
    "#             ax.text(i+0.5, j+0.5, str(c), va='center', ha='center')\n",
    "#             ax.set_ylim(0,6)\n",
    "            for (x, y), z in np.ndenumerate(action_values_map):\n",
    "                if [x, y] not in [[0,0],[1,1],[0,2],[2,0],[2,2]]:\n",
    "                    ax.text(y, x, '{:0.1f}'.format(z), ha='center', va='center')"
   ]
  },
  {
   "cell_type": "markdown",
   "metadata": {},
   "source": [
    "## Param Search"
   ]
  },
  {
   "cell_type": "code",
   "execution_count": 312,
   "metadata": {},
   "outputs": [],
   "source": [
    "import pandas as pd\n",
    "import random"
   ]
  },
  {
   "cell_type": "code",
   "execution_count": 315,
   "metadata": {},
   "outputs": [],
   "source": [
    "MAX_EVALS=10"
   ]
  },
  {
   "cell_type": "code",
   "execution_count": 316,
   "metadata": {},
   "outputs": [],
   "source": [
    "from fastprogress.fastprogress import master_bar, progress_bar"
   ]
  },
  {
   "cell_type": "code",
   "execution_count": 317,
   "metadata": {},
   "outputs": [],
   "source": [
    "# mb = master_bar(range(1))\n",
    "# for j in mb:\n",
    "#     for i in progress_bar(range(MAX_EVALS),parent=mb):\n",
    "#         print(i)"
   ]
  },
  {
   "cell_type": "code",
   "execution_count": 318,
   "metadata": {},
   "outputs": [],
   "source": [
    "def random_search(param_grid, mb=master_bar(range(1)), max_evals = MAX_EVALS):\n",
    "    \"\"\"Random search for hyperparameter optimization\"\"\"\n",
    "    \n",
    "    # Dataframe for results\n",
    "    results = pd.DataFrame(columns = ['score', 'params', 'iteration'],\n",
    "                                  index = list(range(MAX_EVALS)))\n",
    "    \n",
    "    # Keep searching until reach max evaluations\n",
    "    for j in mb:\n",
    "        for i in progress_bar(range(MAX_EVALS),parent=mb):\n",
    "\n",
    "            # Choose random hyperparameters\n",
    "            hyperparameters = {k: random.sample(v, 1)[0] for k, v in param_grid.items()}\n",
    "            print(hyperparameters)\n",
    "            # Evaluate randomly selected hyperparameters\n",
    "            eval_results = objective(hyperparameters, i)\n",
    "\n",
    "            results.loc[i, :] = eval_results\n",
    "    \n",
    "    # Sort with best score on top\n",
    "    results.sort_values('score', ascending = False, inplace = True)\n",
    "    results.reset_index(inplace = True)\n",
    "    return results "
   ]
  },
  {
   "cell_type": "code",
   "execution_count": 319,
   "metadata": {},
   "outputs": [],
   "source": [
    "SarsaAgent = reload(SarsaAgent)\n",
    "agents = {\n",
    "    \"Sarsa\": SarsaAgent,\n",
    "}\n",
    "agent_infos = {\n",
    "    \"Sarsa\": {},\n",
    "}\n",
    "param_grid = dict(\n",
    "    num_tilings=[4,8,16,32],\n",
    "    num_tiles=[4,8,16,32],\n",
    "    iht_size=[50, 100, 200, 300, 400, 500],\n",
    ")"
   ]
  },
  {
   "cell_type": "code",
   "execution_count": 320,
   "metadata": {},
   "outputs": [],
   "source": [
    "\n",
    "def objective(hyper_params, i):\n",
    "    all_reward_sums = {} # Contains sum of rewards during episode\n",
    "    num_runs = 10\n",
    "    num_episodes = 500\n",
    "    Environment = envs['Grid-World']\n",
    "\n",
    "    for algorithm in tqdm(list(agents.keys())):\n",
    "        all_reward_sums[algorithm] = []\n",
    "        all_state_visits[algorithm] = []\n",
    "\n",
    "        for run in tqdm(range(num_runs)):\n",
    "            agent = agents[algorithm]()\n",
    "            env = Environment()\n",
    "\n",
    "            env.env_init(env_info)\n",
    "            agent_info = {\"num_actions\": 4, \"num_states\": env.cols * env.rows, \"epsilon\": .1, \"step_size\": 0.5, \"discount\": 0.9} \n",
    "            agent_info[\"seed\"] = run\n",
    "            agent_info.update(agent_infos[algorithm])\n",
    "            agent_info.update(hyper_params)\n",
    "            agent_info['step_size'] = 1e-2 * 4 / agent_info['num_tilings']\n",
    "            np.random.seed(run)\n",
    "            agent.agent_init(agent_info)\n",
    "\n",
    "            reward_sums = []\n",
    "            state_visits = np.zeros(env.cols * env.rows)\n",
    "            for episode in range(num_episodes):\n",
    "#                 print(f\"episode {episode}\",end='\\r')\n",
    "#                 print(\"\")\n",
    "                sum_of_rewards = run_episode(env, agent) \n",
    "\n",
    "                reward_sums.append(sum_of_rewards)\n",
    "            all_reward_sums[algorithm].append(reward_sums)\n",
    "    return np.mean(all_reward_sums[algorithm]), hyper_params, i"
   ]
  },
  {
   "cell_type": "code",
   "execution_count": 321,
   "metadata": {},
   "outputs": [
    {
     "data": {
      "text/html": [],
      "text/plain": [
       "<IPython.core.display.HTML object>"
      ]
     },
     "metadata": {},
     "output_type": "display_data"
    },
    {
     "name": "stderr",
     "output_type": "stream",
     "text": [
      "  0%|          | 0/1 [00:00<?, ?it/s]\n",
      "  0%|          | 0/10 [00:00<?, ?it/s]\u001b[A"
     ]
    },
    {
     "name": "stdout",
     "output_type": "stream",
     "text": [
      "{'num_tilings': 16, 'num_tiles': 8, 'iht_size': 50}\n",
      "IHT full, starting to allow collisions\n",
      "404"
     ]
    },
    {
     "name": "stderr",
     "output_type": "stream",
     "text": [
      "\n",
      " 10%|█         | 1/10 [00:46<06:54, 46.07s/it]\u001b[A"
     ]
    },
    {
     "name": "stdout",
     "output_type": "stream",
     "text": [
      "IHT full, starting to allow collisions\n",
      "247\r"
     ]
    },
    {
     "name": "stderr",
     "output_type": "stream",
     "text": [
      "\n",
      " 20%|██        | 2/10 [01:32<06:09, 46.21s/it]\u001b[A"
     ]
    },
    {
     "name": "stdout",
     "output_type": "stream",
     "text": [
      "IHT full, starting to allow collisions\n",
      "412\r"
     ]
    },
    {
     "name": "stderr",
     "output_type": "stream",
     "text": [
      "\n",
      " 30%|███       | 3/10 [02:01<04:47, 41.00s/it]\u001b[A"
     ]
    },
    {
     "name": "stdout",
     "output_type": "stream",
     "text": [
      "IHT full, starting to allow collisions\n",
      "349"
     ]
    },
    {
     "name": "stderr",
     "output_type": "stream",
     "text": [
      "\n",
      " 40%|████      | 4/10 [02:47<04:14, 42.47s/it]\u001b[A"
     ]
    },
    {
     "name": "stdout",
     "output_type": "stream",
     "text": [
      "IHT full, starting to allow collisions\n",
      "669"
     ]
    },
    {
     "name": "stderr",
     "output_type": "stream",
     "text": [
      "\n",
      " 50%|█████     | 5/10 [03:33<03:37, 43.56s/it]\u001b[A"
     ]
    },
    {
     "name": "stdout",
     "output_type": "stream",
     "text": [
      "IHT full, starting to allow collisions\n",
      "257"
     ]
    },
    {
     "name": "stderr",
     "output_type": "stream",
     "text": [
      "\n",
      " 60%|██████    | 6/10 [04:20<02:58, 44.59s/it]\u001b[A"
     ]
    },
    {
     "name": "stdout",
     "output_type": "stream",
     "text": [
      "IHT full, starting to allow collisions\n",
      "211"
     ]
    },
    {
     "name": "stderr",
     "output_type": "stream",
     "text": [
      "\n",
      " 70%|███████   | 7/10 [05:07<02:16, 45.38s/it]\u001b[A"
     ]
    },
    {
     "name": "stdout",
     "output_type": "stream",
     "text": [
      "IHT full, starting to allow collisions\n",
      "391"
     ]
    },
    {
     "name": "stderr",
     "output_type": "stream",
     "text": [
      "\n",
      " 80%|████████  | 8/10 [05:56<01:32, 46.40s/it]\u001b[A"
     ]
    },
    {
     "name": "stdout",
     "output_type": "stream",
     "text": [
      "IHT full, starting to allow collisions\n",
      "400"
     ]
    },
    {
     "name": "stderr",
     "output_type": "stream",
     "text": [
      "\n",
      " 90%|█████████ | 9/10 [06:42<00:46, 46.29s/it]\u001b[A"
     ]
    },
    {
     "name": "stdout",
     "output_type": "stream",
     "text": [
      "IHT full, starting to allow collisions\n",
      "451"
     ]
    },
    {
     "name": "stderr",
     "output_type": "stream",
     "text": [
      "\n",
      "100%|██████████| 10/10 [07:27<00:00, 44.77s/it]\u001b[A\n",
      "100%|██████████| 1/1 [07:27<00:00, 447.66s/it]"
     ]
    },
    {
     "name": "stdout",
     "output_type": "stream",
     "text": [
      "499\r"
     ]
    },
    {
     "name": "stderr",
     "output_type": "stream",
     "text": [
      "\n",
      "  0%|          | 0/1 [00:00<?, ?it/s]\n",
      "  0%|          | 0/10 [00:00<?, ?it/s]\u001b[A"
     ]
    },
    {
     "name": "stdout",
     "output_type": "stream",
     "text": [
      "{'num_tilings': 4, 'num_tiles': 16, 'iht_size': 300}\n",
      "IHT full, starting to allow collisions\n",
      "126"
     ]
    },
    {
     "name": "stderr",
     "output_type": "stream",
     "text": [
      "\n",
      " 10%|█         | 1/10 [00:18<02:47, 18.66s/it]\u001b[A"
     ]
    },
    {
     "name": "stdout",
     "output_type": "stream",
     "text": [
      "IHT full, starting to allow collisions\n",
      "185"
     ]
    },
    {
     "name": "stderr",
     "output_type": "stream",
     "text": [
      "\n",
      " 20%|██        | 2/10 [00:46<02:51, 21.47s/it]\u001b[A"
     ]
    },
    {
     "name": "stdout",
     "output_type": "stream",
     "text": [
      "IHT full, starting to allow collisions\n",
      "038"
     ]
    },
    {
     "name": "stderr",
     "output_type": "stream",
     "text": [
      "\n",
      " 30%|███       | 3/10 [01:14<02:44, 23.46s/it]\u001b[A"
     ]
    },
    {
     "name": "stdout",
     "output_type": "stream",
     "text": [
      "IHT full, starting to allow collisions\n",
      "203\r"
     ]
    },
    {
     "name": "stderr",
     "output_type": "stream",
     "text": [
      "\n",
      " 40%|████      | 4/10 [01:46<02:35, 25.97s/it]\u001b[A"
     ]
    },
    {
     "name": "stdout",
     "output_type": "stream",
     "text": [
      "IHT full, starting to allow collisions\n",
      "496"
     ]
    },
    {
     "name": "stderr",
     "output_type": "stream",
     "text": [
      "\n",
      " 50%|█████     | 5/10 [02:17<02:16, 27.33s/it]\u001b[A"
     ]
    },
    {
     "name": "stdout",
     "output_type": "stream",
     "text": [
      "IHT full, starting to allow collisions\n",
      "398"
     ]
    },
    {
     "name": "stderr",
     "output_type": "stream",
     "text": [
      "\n",
      " 60%|██████    | 6/10 [02:48<01:54, 28.60s/it]\u001b[A"
     ]
    },
    {
     "name": "stdout",
     "output_type": "stream",
     "text": [
      "IHT full, starting to allow collisions\n",
      "349"
     ]
    },
    {
     "name": "stderr",
     "output_type": "stream",
     "text": [
      "\n",
      " 70%|███████   | 7/10 [03:14<01:23, 27.84s/it]\u001b[A"
     ]
    },
    {
     "name": "stdout",
     "output_type": "stream",
     "text": [
      "IHT full, starting to allow collisions\n",
      "523"
     ]
    },
    {
     "name": "stderr",
     "output_type": "stream",
     "text": [
      "\n",
      " 80%|████████  | 8/10 [03:36<00:52, 26.01s/it]\u001b[A"
     ]
    },
    {
     "name": "stdout",
     "output_type": "stream",
     "text": [
      "IHT full, starting to allow collisions\n",
      "570"
     ]
    },
    {
     "name": "stderr",
     "output_type": "stream",
     "text": [
      "\n",
      " 90%|█████████ | 9/10 [04:05<00:26, 26.78s/it]\u001b[A"
     ]
    },
    {
     "name": "stdout",
     "output_type": "stream",
     "text": [
      "IHT full, starting to allow collisions\n",
      "327"
     ]
    },
    {
     "name": "stderr",
     "output_type": "stream",
     "text": [
      "\n",
      "100%|██████████| 10/10 [04:31<00:00, 27.17s/it]\u001b[A\n",
      "100%|██████████| 1/1 [04:31<00:00, 271.70s/it]"
     ]
    },
    {
     "name": "stdout",
     "output_type": "stream",
     "text": [
      "129\r"
     ]
    },
    {
     "name": "stderr",
     "output_type": "stream",
     "text": [
      "\n",
      "  0%|          | 0/1 [00:00<?, ?it/s]\n",
      "  0%|          | 0/10 [00:00<?, ?it/s]\u001b[A"
     ]
    },
    {
     "name": "stdout",
     "output_type": "stream",
     "text": [
      "{'num_tilings': 16, 'num_tiles': 16, 'iht_size': 500}\n",
      "IHT full, starting to allow collisions\n",
      "730"
     ]
    },
    {
     "name": "stderr",
     "output_type": "stream",
     "text": [
      "\n",
      " 10%|█         | 1/10 [00:25<03:53, 25.90s/it]\u001b[A"
     ]
    },
    {
     "name": "stdout",
     "output_type": "stream",
     "text": [
      "IHT full, starting to allow collisions\n",
      "111\r"
     ]
    },
    {
     "name": "stderr",
     "output_type": "stream",
     "text": [
      "\n",
      " 20%|██        | 2/10 [00:46<03:14, 24.32s/it]\u001b[A"
     ]
    },
    {
     "name": "stdout",
     "output_type": "stream",
     "text": [
      "IHT full, starting to allow collisions\n",
      "343"
     ]
    },
    {
     "name": "stderr",
     "output_type": "stream",
     "text": [
      "\n",
      " 30%|███       | 3/10 [00:57<02:22, 20.40s/it]\u001b[A"
     ]
    },
    {
     "name": "stdout",
     "output_type": "stream",
     "text": [
      "IHT full, starting to allow collisions\n",
      "200"
     ]
    },
    {
     "name": "stderr",
     "output_type": "stream",
     "text": [
      "\n",
      " 40%|████      | 4/10 [01:25<02:16, 22.67s/it]\u001b[A"
     ]
    },
    {
     "name": "stdout",
     "output_type": "stream",
     "text": [
      "IHT full, starting to allow collisions\n",
      "276"
     ]
    },
    {
     "name": "stderr",
     "output_type": "stream",
     "text": [
      "\n",
      " 50%|█████     | 5/10 [01:50<01:56, 23.23s/it]"
     ]
    },
    {
     "name": "stdout",
     "output_type": "stream",
     "text": [
      "499\r"
     ]
    },
    {
     "name": "stderr",
     "output_type": "stream",
     "text": [
      "\u001b[A"
     ]
    },
    {
     "name": "stdout",
     "output_type": "stream",
     "text": [
      "IHT full, starting to allow collisions\n",
      "299"
     ]
    },
    {
     "name": "stderr",
     "output_type": "stream",
     "text": [
      "\n",
      " 60%|██████    | 6/10 [02:37<02:01, 30.41s/it]\u001b[A"
     ]
    },
    {
     "name": "stdout",
     "output_type": "stream",
     "text": [
      "IHT full, starting to allow collisions\n",
      "221\r"
     ]
    },
    {
     "name": "stderr",
     "output_type": "stream",
     "text": [
      "\n",
      " 70%|███████   | 7/10 [03:08<01:32, 30.75s/it]\u001b[A"
     ]
    },
    {
     "name": "stdout",
     "output_type": "stream",
     "text": [
      "IHT full, starting to allow collisions\n",
      "589"
     ]
    },
    {
     "name": "stderr",
     "output_type": "stream",
     "text": [
      "\n",
      " 80%|████████  | 8/10 [03:37<01:00, 30.18s/it]\u001b[A"
     ]
    },
    {
     "name": "stdout",
     "output_type": "stream",
     "text": [
      "IHT full, starting to allow collisions\n",
      "497"
     ]
    },
    {
     "name": "stderr",
     "output_type": "stream",
     "text": [
      "\n",
      " 90%|█████████ | 9/10 [04:21<00:34, 34.11s/it]\u001b[A"
     ]
    },
    {
     "name": "stdout",
     "output_type": "stream",
     "text": [
      "IHT full, starting to allow collisions\n",
      "428"
     ]
    },
    {
     "name": "stderr",
     "output_type": "stream",
     "text": [
      "\n",
      "100%|██████████| 10/10 [05:08<00:00, 30.88s/it]\u001b[A\n",
      "100%|██████████| 1/1 [05:08<00:00, 308.78s/it]"
     ]
    },
    {
     "name": "stdout",
     "output_type": "stream",
     "text": [
      "499\r"
     ]
    },
    {
     "name": "stderr",
     "output_type": "stream",
     "text": [
      "\n",
      "  0%|          | 0/1 [00:00<?, ?it/s]\n",
      "  0%|          | 0/10 [00:00<?, ?it/s]\u001b[A"
     ]
    },
    {
     "name": "stdout",
     "output_type": "stream",
     "text": [
      "{'num_tilings': 8, 'num_tiles': 32, 'iht_size': 100}\n",
      "IHT full, starting to allow collisions\n",
      "360"
     ]
    },
    {
     "name": "stderr",
     "output_type": "stream",
     "text": [
      "\n",
      " 10%|█         | 1/10 [00:45<06:45, 45.03s/it]\u001b[A"
     ]
    },
    {
     "name": "stdout",
     "output_type": "stream",
     "text": [
      "IHT full, starting to allow collisions\n",
      "454"
     ]
    },
    {
     "name": "stderr",
     "output_type": "stream",
     "text": [
      "\n",
      " 20%|██        | 2/10 [01:17<05:30, 41.37s/it]\u001b[A"
     ]
    },
    {
     "name": "stdout",
     "output_type": "stream",
     "text": [
      "IHT full, starting to allow collisions\n",
      "385"
     ]
    },
    {
     "name": "stderr",
     "output_type": "stream",
     "text": [
      "\n",
      " 30%|███       | 3/10 [01:53<04:38, 39.76s/it]\u001b[A"
     ]
    },
    {
     "name": "stdout",
     "output_type": "stream",
     "text": [
      "IHT full, starting to allow collisions\n",
      "130"
     ]
    },
    {
     "name": "stderr",
     "output_type": "stream",
     "text": [
      "\n",
      " 40%|████      | 4/10 [02:21<03:36, 36.17s/it]\u001b[A"
     ]
    },
    {
     "name": "stdout",
     "output_type": "stream",
     "text": [
      "IHT full, starting to allow collisions\n",
      "319"
     ]
    },
    {
     "name": "stderr",
     "output_type": "stream",
     "text": [
      "\n",
      " 50%|█████     | 5/10 [03:08<03:17, 39.51s/it]\u001b[A"
     ]
    },
    {
     "name": "stdout",
     "output_type": "stream",
     "text": [
      "IHT full, starting to allow collisions\n",
      "342"
     ]
    },
    {
     "name": "stderr",
     "output_type": "stream",
     "text": [
      "\n",
      " 60%|██████    | 6/10 [03:55<02:46, 41.72s/it]\u001b[A"
     ]
    },
    {
     "name": "stdout",
     "output_type": "stream",
     "text": [
      "IHT full, starting to allow collisions\n",
      "242"
     ]
    },
    {
     "name": "stderr",
     "output_type": "stream",
     "text": [
      "\n",
      " 70%|███████   | 7/10 [04:41<02:08, 42.99s/it]\u001b[A"
     ]
    },
    {
     "name": "stdout",
     "output_type": "stream",
     "text": [
      "IHT full, starting to allow collisions\n",
      "292"
     ]
    },
    {
     "name": "stderr",
     "output_type": "stream",
     "text": [
      "\n",
      " 80%|████████  | 8/10 [05:29<01:28, 44.26s/it]\u001b[A"
     ]
    },
    {
     "name": "stdout",
     "output_type": "stream",
     "text": [
      "IHT full, starting to allow collisions\n",
      "127"
     ]
    },
    {
     "name": "stderr",
     "output_type": "stream",
     "text": [
      "\n",
      " 90%|█████████ | 9/10 [06:11<00:43, 43.60s/it]\u001b[A"
     ]
    },
    {
     "name": "stdout",
     "output_type": "stream",
     "text": [
      "IHT full, starting to allow collisions\n",
      "310\r"
     ]
    },
    {
     "name": "stderr",
     "output_type": "stream",
     "text": [
      "\n",
      "100%|██████████| 10/10 [06:57<00:00, 41.78s/it]\u001b[A\n",
      "100%|██████████| 1/1 [06:57<00:00, 417.78s/it]"
     ]
    },
    {
     "name": "stdout",
     "output_type": "stream",
     "text": [
      "499\r"
     ]
    },
    {
     "name": "stderr",
     "output_type": "stream",
     "text": [
      "\n",
      "  0%|          | 0/1 [00:00<?, ?it/s]\n",
      "  0%|          | 0/10 [00:00<?, ?it/s]\u001b[A"
     ]
    },
    {
     "name": "stdout",
     "output_type": "stream",
     "text": [
      "{'num_tilings': 16, 'num_tiles': 16, 'iht_size': 400}\n",
      "IHT full, starting to allow collisions\n",
      "118"
     ]
    },
    {
     "name": "stderr",
     "output_type": "stream",
     "text": [
      "\n",
      " 10%|█         | 1/10 [00:46<06:54, 46.08s/it]\u001b[A"
     ]
    },
    {
     "name": "stdout",
     "output_type": "stream",
     "text": [
      "IHT full, starting to allow collisions\n",
      "302"
     ]
    },
    {
     "name": "stderr",
     "output_type": "stream",
     "text": [
      "\n",
      " 20%|██        | 2/10 [01:18<05:36, 42.12s/it]\u001b[A"
     ]
    },
    {
     "name": "stdout",
     "output_type": "stream",
     "text": [
      "IHT full, starting to allow collisions\n",
      "774"
     ]
    },
    {
     "name": "stderr",
     "output_type": "stream",
     "text": [
      "\n"
     ]
    },
    {
     "name": "stdout",
     "output_type": "stream",
     "text": [
      "373\r"
     ]
    },
    {
     "name": "stderr",
     "output_type": "stream",
     "text": [
      " 30%|███       | 3/10 [01:30<03:49, 32.83s/it]\u001b[A"
     ]
    },
    {
     "name": "stdout",
     "output_type": "stream",
     "text": [
      "IHT full, starting to allow collisions\n",
      "141"
     ]
    },
    {
     "name": "stderr",
     "output_type": "stream",
     "text": [
      "\n",
      " 40%|████      | 4/10 [01:53<03:00, 30.08s/it]\u001b[A"
     ]
    },
    {
     "name": "stdout",
     "output_type": "stream",
     "text": [
      "IHT full, starting to allow collisions\n",
      "116"
     ]
    },
    {
     "name": "stderr",
     "output_type": "stream",
     "text": [
      "\n",
      " 50%|█████     | 5/10 [02:20<02:25, 29.04s/it]\u001b[A"
     ]
    },
    {
     "name": "stdout",
     "output_type": "stream",
     "text": [
      "IHT full, starting to allow collisions\n",
      "404"
     ]
    },
    {
     "name": "stderr",
     "output_type": "stream",
     "text": [
      "\n",
      " 60%|██████    | 6/10 [03:06<02:16, 34.09s/it]\u001b[A"
     ]
    },
    {
     "name": "stdout",
     "output_type": "stream",
     "text": [
      "IHT full, starting to allow collisions\n",
      "168"
     ]
    },
    {
     "name": "stderr",
     "output_type": "stream",
     "text": [
      "\n",
      " 70%|███████   | 7/10 [03:42<01:44, 34.79s/it]\u001b[A"
     ]
    },
    {
     "name": "stdout",
     "output_type": "stream",
     "text": [
      "IHT full, starting to allow collisions\n",
      "499\r"
     ]
    },
    {
     "name": "stderr",
     "output_type": "stream",
     "text": [
      "\n",
      " 80%|████████  | 8/10 [04:28<01:16, 38.18s/it]\u001b[A"
     ]
    },
    {
     "name": "stdout",
     "output_type": "stream",
     "text": [
      "IHT full, starting to allow collisions\n",
      "385"
     ]
    },
    {
     "name": "stderr",
     "output_type": "stream",
     "text": [
      "\n",
      " 90%|█████████ | 9/10 [05:16<00:40, 40.91s/it]\u001b[A"
     ]
    },
    {
     "name": "stdout",
     "output_type": "stream",
     "text": [
      "IHT full, starting to allow collisions\n",
      "345\r"
     ]
    },
    {
     "name": "stderr",
     "output_type": "stream",
     "text": [
      "\n",
      "100%|██████████| 10/10 [05:38<00:00, 33.81s/it]\u001b[A\n",
      "100%|██████████| 1/1 [05:38<00:00, 338.11s/it]"
     ]
    },
    {
     "name": "stdout",
     "output_type": "stream",
     "text": [
      "137\r"
     ]
    },
    {
     "name": "stderr",
     "output_type": "stream",
     "text": [
      "\n",
      "  0%|          | 0/1 [00:00<?, ?it/s]\n",
      "  0%|          | 0/10 [00:00<?, ?it/s]\u001b[A"
     ]
    },
    {
     "name": "stdout",
     "output_type": "stream",
     "text": [
      "{'num_tilings': 32, 'num_tiles': 32, 'iht_size': 300}\n",
      "IHT full, starting to allow collisions\n",
      "899"
     ]
    },
    {
     "name": "stderr",
     "output_type": "stream",
     "text": [
      "\n",
      " 10%|█         | 1/10 [00:52<07:51, 52.35s/it]\u001b[A"
     ]
    },
    {
     "name": "stdout",
     "output_type": "stream",
     "text": [
      "IHT full, starting to allow collisions\n",
      "919"
     ]
    },
    {
     "name": "stderr",
     "output_type": "stream",
     "text": [
      "\n",
      " 20%|██        | 2/10 [01:41<06:50, 51.29s/it]\u001b[A"
     ]
    },
    {
     "name": "stdout",
     "output_type": "stream",
     "text": [
      "IHT full, starting to allow collisions\n",
      "100"
     ]
    },
    {
     "name": "stderr",
     "output_type": "stream",
     "text": [
      "\n",
      " 30%|███       | 3/10 [02:32<05:59, 51.40s/it]\u001b[A"
     ]
    },
    {
     "name": "stdout",
     "output_type": "stream",
     "text": [
      "IHT full, starting to allow collisions\n",
      "470"
     ]
    },
    {
     "name": "stderr",
     "output_type": "stream",
     "text": [
      "\n",
      " 40%|████      | 4/10 [03:25<05:10, 51.68s/it]\u001b[A"
     ]
    },
    {
     "name": "stdout",
     "output_type": "stream",
     "text": [
      "IHT full, starting to allow collisions\n",
      "267"
     ]
    },
    {
     "name": "stderr",
     "output_type": "stream",
     "text": [
      "\n",
      " 50%|█████     | 5/10 [04:16<04:17, 51.52s/it]\u001b[A"
     ]
    },
    {
     "name": "stdout",
     "output_type": "stream",
     "text": [
      "IHT full, starting to allow collisions\n",
      "434"
     ]
    },
    {
     "name": "stderr",
     "output_type": "stream",
     "text": [
      "\n",
      " 60%|██████    | 6/10 [05:08<03:27, 51.87s/it]\u001b[A"
     ]
    },
    {
     "name": "stdout",
     "output_type": "stream",
     "text": [
      "IHT full, starting to allow collisions\n",
      "495"
     ]
    },
    {
     "name": "stderr",
     "output_type": "stream",
     "text": [
      "\n"
     ]
    },
    {
     "name": "stdout",
     "output_type": "stream",
     "text": [
      "499\r"
     ]
    },
    {
     "name": "stderr",
     "output_type": "stream",
     "text": [
      " 70%|███████   | 7/10 [06:00<02:35, 51.83s/it]\u001b[A"
     ]
    },
    {
     "name": "stdout",
     "output_type": "stream",
     "text": [
      "IHT full, starting to allow collisions\n",
      "276\r"
     ]
    },
    {
     "name": "stderr",
     "output_type": "stream",
     "text": [
      "\n",
      " 80%|████████  | 8/10 [06:53<01:44, 52.14s/it]\u001b[A"
     ]
    },
    {
     "name": "stdout",
     "output_type": "stream",
     "text": [
      "IHT full, starting to allow collisions\n",
      "277\r"
     ]
    },
    {
     "name": "stderr",
     "output_type": "stream",
     "text": [
      "\n",
      " 90%|█████████ | 9/10 [07:45<00:52, 52.04s/it]\u001b[A"
     ]
    },
    {
     "name": "stdout",
     "output_type": "stream",
     "text": [
      "IHT full, starting to allow collisions\n",
      "549"
     ]
    },
    {
     "name": "stderr",
     "output_type": "stream",
     "text": [
      "\n",
      "100%|██████████| 10/10 [08:37<00:00, 51.77s/it]\u001b[A\n",
      "100%|██████████| 1/1 [08:37<00:00, 517.69s/it]"
     ]
    },
    {
     "name": "stdout",
     "output_type": "stream",
     "text": [
      "499\r"
     ]
    },
    {
     "name": "stderr",
     "output_type": "stream",
     "text": [
      "\n",
      "  0%|          | 0/1 [00:00<?, ?it/s]\n",
      "  0%|          | 0/10 [00:00<?, ?it/s]\u001b[A"
     ]
    },
    {
     "name": "stdout",
     "output_type": "stream",
     "text": [
      "{'num_tilings': 16, 'num_tiles': 8, 'iht_size': 50}\n",
      "IHT full, starting to allow collisions\n",
      "282"
     ]
    },
    {
     "name": "stderr",
     "output_type": "stream",
     "text": [
      "\n",
      " 10%|█         | 1/10 [00:48<07:15, 48.42s/it]\u001b[A"
     ]
    },
    {
     "name": "stdout",
     "output_type": "stream",
     "text": [
      "IHT full, starting to allow collisions\n",
      "649"
     ]
    },
    {
     "name": "stderr",
     "output_type": "stream",
     "text": [
      "\n",
      " 20%|██        | 2/10 [01:37<06:29, 48.67s/it]\u001b[A"
     ]
    },
    {
     "name": "stdout",
     "output_type": "stream",
     "text": [
      "IHT full, starting to allow collisions\n",
      "388"
     ]
    },
    {
     "name": "stderr",
     "output_type": "stream",
     "text": [
      "\n",
      " 30%|███       | 3/10 [02:08<05:02, 43.21s/it]\u001b[A"
     ]
    },
    {
     "name": "stdout",
     "output_type": "stream",
     "text": [
      "IHT full, starting to allow collisions\n",
      "279"
     ]
    },
    {
     "name": "stderr",
     "output_type": "stream",
     "text": [
      "\n",
      " 40%|████      | 4/10 [02:56<04:28, 44.73s/it]\u001b[A"
     ]
    },
    {
     "name": "stdout",
     "output_type": "stream",
     "text": [
      "IHT full, starting to allow collisions\n",
      "179"
     ]
    },
    {
     "name": "stderr",
     "output_type": "stream",
     "text": [
      "\n",
      " 50%|█████     | 5/10 [03:42<03:45, 45.10s/it]\u001b[A"
     ]
    },
    {
     "name": "stdout",
     "output_type": "stream",
     "text": [
      "IHT full, starting to allow collisions\n",
      "454"
     ]
    },
    {
     "name": "stderr",
     "output_type": "stream",
     "text": [
      "\n",
      " 60%|██████    | 6/10 [04:30<03:04, 46.04s/it]\u001b[A"
     ]
    },
    {
     "name": "stdout",
     "output_type": "stream",
     "text": [
      "IHT full, starting to allow collisions\n",
      "400"
     ]
    },
    {
     "name": "stderr",
     "output_type": "stream",
     "text": [
      "\n",
      " 70%|███████   | 7/10 [05:19<02:21, 47.03s/it]\u001b[A"
     ]
    },
    {
     "name": "stdout",
     "output_type": "stream",
     "text": [
      "IHT full, starting to allow collisions\n",
      "177"
     ]
    },
    {
     "name": "stderr",
     "output_type": "stream",
     "text": [
      "\n",
      " 80%|████████  | 8/10 [06:07<01:34, 47.33s/it]\u001b[A"
     ]
    },
    {
     "name": "stdout",
     "output_type": "stream",
     "text": [
      "IHT full, starting to allow collisions\n",
      "497"
     ]
    },
    {
     "name": "stderr",
     "output_type": "stream",
     "text": [
      "\n",
      " 90%|█████████ | 9/10 [06:56<00:47, 47.74s/it]\u001b[A"
     ]
    },
    {
     "name": "stdout",
     "output_type": "stream",
     "text": [
      "IHT full, starting to allow collisions\n",
      "499"
     ]
    },
    {
     "name": "stderr",
     "output_type": "stream",
     "text": [
      "\n",
      "100%|██████████| 10/10 [07:45<00:00, 46.52s/it]\u001b[A\n",
      "100%|██████████| 1/1 [07:45<00:00, 465.23s/it]"
     ]
    },
    {
     "name": "stdout",
     "output_type": "stream",
     "text": [
      "499\r"
     ]
    },
    {
     "name": "stderr",
     "output_type": "stream",
     "text": [
      "\n",
      "  0%|          | 0/1 [00:00<?, ?it/s]\n",
      "  0%|          | 0/10 [00:00<?, ?it/s]\u001b[A"
     ]
    },
    {
     "name": "stdout",
     "output_type": "stream",
     "text": [
      "{'num_tilings': 4, 'num_tiles': 32, 'iht_size': 100}\n",
      "IHT full, starting to allow collisions\n",
      "327"
     ]
    },
    {
     "name": "stderr",
     "output_type": "stream",
     "text": [
      "\n",
      " 10%|█         | 1/10 [00:27<04:11, 27.95s/it]\u001b[A"
     ]
    },
    {
     "name": "stdout",
     "output_type": "stream",
     "text": [
      "IHT full, starting to allow collisions\n",
      "213"
     ]
    },
    {
     "name": "stderr",
     "output_type": "stream",
     "text": [
      "\n",
      " 20%|██        | 2/10 [00:55<03:43, 27.90s/it]\u001b[A"
     ]
    },
    {
     "name": "stdout",
     "output_type": "stream",
     "text": [
      "IHT full, starting to allow collisions\n",
      "313"
     ]
    },
    {
     "name": "stderr",
     "output_type": "stream",
     "text": [
      "\n",
      " 30%|███       | 3/10 [01:30<03:30, 30.07s/it]\u001b[A"
     ]
    },
    {
     "name": "stdout",
     "output_type": "stream",
     "text": [
      "IHT full, starting to allow collisions\n",
      "495"
     ]
    },
    {
     "name": "stderr",
     "output_type": "stream",
     "text": [
      "\n"
     ]
    },
    {
     "name": "stdout",
     "output_type": "stream",
     "text": [
      "274\r"
     ]
    },
    {
     "name": "stderr",
     "output_type": "stream",
     "text": [
      " 40%|████      | 4/10 [02:06<03:10, 31.79s/it]\u001b[A"
     ]
    },
    {
     "name": "stdout",
     "output_type": "stream",
     "text": [
      "IHT full, starting to allow collisions\n",
      "103"
     ]
    },
    {
     "name": "stderr",
     "output_type": "stream",
     "text": [
      "\n",
      " 50%|█████     | 5/10 [02:47<02:52, 34.52s/it]\u001b[A"
     ]
    },
    {
     "name": "stdout",
     "output_type": "stream",
     "text": [
      "IHT full, starting to allow collisions\n",
      "170"
     ]
    },
    {
     "name": "stderr",
     "output_type": "stream",
     "text": [
      "\n",
      " 60%|██████    | 6/10 [03:17<02:12, 33.21s/it]\u001b[A"
     ]
    },
    {
     "name": "stdout",
     "output_type": "stream",
     "text": [
      "IHT full, starting to allow collisions\n",
      "329"
     ]
    },
    {
     "name": "stderr",
     "output_type": "stream",
     "text": [
      "\n",
      " 70%|███████   | 7/10 [03:56<01:44, 34.82s/it]\u001b[A"
     ]
    },
    {
     "name": "stdout",
     "output_type": "stream",
     "text": [
      "IHT full, starting to allow collisions\n",
      "337"
     ]
    },
    {
     "name": "stderr",
     "output_type": "stream",
     "text": [
      "\n",
      " 80%|████████  | 8/10 [04:38<01:14, 37.09s/it]\u001b[A"
     ]
    },
    {
     "name": "stdout",
     "output_type": "stream",
     "text": [
      "IHT full, starting to allow collisions\n",
      "466"
     ]
    },
    {
     "name": "stderr",
     "output_type": "stream",
     "text": [
      "\n",
      " 90%|█████████ | 9/10 [05:18<00:37, 37.87s/it]\u001b[A"
     ]
    },
    {
     "name": "stdout",
     "output_type": "stream",
     "text": [
      "IHT full, starting to allow collisions\n",
      "407\r"
     ]
    },
    {
     "name": "stderr",
     "output_type": "stream",
     "text": [
      "\n",
      "100%|██████████| 10/10 [05:58<00:00, 35.90s/it]\u001b[A\n",
      "100%|██████████| 1/1 [05:58<00:00, 358.97s/it]"
     ]
    },
    {
     "name": "stdout",
     "output_type": "stream",
     "text": [
      "499\r"
     ]
    },
    {
     "name": "stderr",
     "output_type": "stream",
     "text": [
      "\n",
      "  0%|          | 0/1 [00:00<?, ?it/s]\n",
      "  0%|          | 0/10 [00:00<?, ?it/s]\u001b[A"
     ]
    },
    {
     "name": "stdout",
     "output_type": "stream",
     "text": [
      "{'num_tilings': 32, 'num_tiles': 4, 'iht_size': 100}\n",
      "IHT full, starting to allow collisions\n",
      "709\r"
     ]
    },
    {
     "name": "stderr",
     "output_type": "stream",
     "text": [
      "\n",
      " 10%|█         | 1/10 [00:32<04:55, 32.80s/it]\u001b[A"
     ]
    },
    {
     "name": "stdout",
     "output_type": "stream",
     "text": [
      "IHT full, starting to allow collisions\n",
      "228"
     ]
    },
    {
     "name": "stderr",
     "output_type": "stream",
     "text": [
      "\n",
      " 20%|██        | 2/10 [00:56<03:59, 29.92s/it]\u001b[A"
     ]
    },
    {
     "name": "stdout",
     "output_type": "stream",
     "text": [
      "IHT full, starting to allow collisions\n",
      "418"
     ]
    },
    {
     "name": "stderr",
     "output_type": "stream",
     "text": [
      "\n",
      " 30%|███       | 3/10 [01:46<04:13, 36.20s/it]\u001b[A"
     ]
    },
    {
     "name": "stdout",
     "output_type": "stream",
     "text": [
      "IHT full, starting to allow collisions\n",
      "979\r"
     ]
    },
    {
     "name": "stderr",
     "output_type": "stream",
     "text": [
      "\n",
      " 40%|████      | 4/10 [02:38<04:04, 40.79s/it]\u001b[A"
     ]
    },
    {
     "name": "stdout",
     "output_type": "stream",
     "text": [
      "IHT full, starting to allow collisions\n",
      "365\r"
     ]
    },
    {
     "name": "stderr",
     "output_type": "stream",
     "text": [
      "\n",
      " 50%|█████     | 5/10 [03:18<03:23, 40.71s/it]\u001b[A"
     ]
    },
    {
     "name": "stdout",
     "output_type": "stream",
     "text": [
      "IHT full, starting to allow collisions\n",
      "466\r"
     ]
    },
    {
     "name": "stderr",
     "output_type": "stream",
     "text": [
      "\n",
      " 60%|██████    | 6/10 [04:04<02:48, 42.16s/it]\u001b[A"
     ]
    },
    {
     "name": "stdout",
     "output_type": "stream",
     "text": [
      "IHT full, starting to allow collisions\n",
      "155"
     ]
    },
    {
     "name": "stderr",
     "output_type": "stream",
     "text": [
      "\n",
      " 70%|███████   | 7/10 [04:58<02:17, 45.84s/it]\u001b[A"
     ]
    },
    {
     "name": "stdout",
     "output_type": "stream",
     "text": [
      "IHT full, starting to allow collisions\n",
      "259\r"
     ]
    },
    {
     "name": "stderr",
     "output_type": "stream",
     "text": [
      "\n",
      " 80%|████████  | 8/10 [05:48<01:34, 47.11s/it]\u001b[A"
     ]
    },
    {
     "name": "stdout",
     "output_type": "stream",
     "text": [
      "IHT full, starting to allow collisions\n",
      "392"
     ]
    },
    {
     "name": "stderr",
     "output_type": "stream",
     "text": [
      "\n",
      " 90%|█████████ | 9/10 [06:43<00:49, 49.25s/it]\u001b[A"
     ]
    },
    {
     "name": "stdout",
     "output_type": "stream",
     "text": [
      "IHT full, starting to allow collisions\n",
      "589"
     ]
    },
    {
     "name": "stderr",
     "output_type": "stream",
     "text": [
      "\n",
      "100%|██████████| 10/10 [07:30<00:00, 45.09s/it]\u001b[A\n",
      "100%|██████████| 1/1 [07:30<00:00, 450.95s/it]"
     ]
    },
    {
     "name": "stdout",
     "output_type": "stream",
     "text": [
      "499\r"
     ]
    },
    {
     "name": "stderr",
     "output_type": "stream",
     "text": [
      "\n"
     ]
    },
    {
     "name": "stdout",
     "output_type": "stream",
     "text": [
      "{'num_tilings': 16, 'num_tiles': 4, 'iht_size': 200}\n"
     ]
    },
    {
     "name": "stderr",
     "output_type": "stream",
     "text": [
      "  0%|          | 0/1 [00:00<?, ?it/s]\n",
      "  0%|          | 0/10 [00:00<?, ?it/s]\u001b[A"
     ]
    },
    {
     "name": "stdout",
     "output_type": "stream",
     "text": [
      "IHT full, starting to allow collisions\n",
      "839"
     ]
    },
    {
     "name": "stderr",
     "output_type": "stream",
     "text": [
      "\n",
      " 10%|█         | 1/10 [00:17<02:40, 17.81s/it]\u001b[A"
     ]
    },
    {
     "name": "stdout",
     "output_type": "stream",
     "text": [
      "IHT full, starting to allow collisions\n",
      "455"
     ]
    },
    {
     "name": "stderr",
     "output_type": "stream",
     "text": [
      "\n",
      " 20%|██        | 2/10 [00:51<03:01, 22.70s/it]\u001b[A"
     ]
    },
    {
     "name": "stdout",
     "output_type": "stream",
     "text": [
      "IHT full, starting to allow collisions\n",
      "405"
     ]
    },
    {
     "name": "stderr",
     "output_type": "stream",
     "text": [
      "\n",
      " 30%|███       | 3/10 [01:06<02:22, 20.33s/it]\u001b[A"
     ]
    },
    {
     "name": "stdout",
     "output_type": "stream",
     "text": [
      "IHT full, starting to allow collisions\n",
      "452"
     ]
    },
    {
     "name": "stderr",
     "output_type": "stream",
     "text": [
      "\n",
      " 40%|████      | 4/10 [01:23<01:56, 19.35s/it]\u001b[A"
     ]
    },
    {
     "name": "stdout",
     "output_type": "stream",
     "text": [
      "IHT full, starting to allow collisions\n",
      "133"
     ]
    },
    {
     "name": "stderr",
     "output_type": "stream",
     "text": [
      "\n",
      " 50%|█████     | 5/10 [02:04<02:08, 25.78s/it]\u001b[A"
     ]
    },
    {
     "name": "stdout",
     "output_type": "stream",
     "text": [
      "IHT full, starting to allow collisions\n",
      "170"
     ]
    },
    {
     "name": "stderr",
     "output_type": "stream",
     "text": [
      "\n",
      " 60%|██████    | 6/10 [02:46<02:02, 30.71s/it]\u001b[A"
     ]
    },
    {
     "name": "stdout",
     "output_type": "stream",
     "text": [
      "IHT full, starting to allow collisions\n",
      "269"
     ]
    },
    {
     "name": "stderr",
     "output_type": "stream",
     "text": [
      "\n",
      " 70%|███████   | 7/10 [03:33<01:46, 35.39s/it]\u001b[A"
     ]
    },
    {
     "name": "stdout",
     "output_type": "stream",
     "text": [
      "IHT full, starting to allow collisions\n",
      "317\r"
     ]
    },
    {
     "name": "stderr",
     "output_type": "stream",
     "text": [
      "\n",
      " 80%|████████  | 8/10 [03:50<01:00, 30.10s/it]\u001b[A"
     ]
    },
    {
     "name": "stdout",
     "output_type": "stream",
     "text": [
      "IHT full, starting to allow collisions\n",
      "257"
     ]
    },
    {
     "name": "stderr",
     "output_type": "stream",
     "text": [
      "\n",
      " 90%|█████████ | 9/10 [04:39<00:35, 35.68s/it]\u001b[A"
     ]
    },
    {
     "name": "stdout",
     "output_type": "stream",
     "text": [
      "IHT full, starting to allow collisions\n",
      "170"
     ]
    },
    {
     "name": "stderr",
     "output_type": "stream",
     "text": [
      "\n",
      "100%|██████████| 10/10 [05:05<00:00, 30.55s/it]\u001b[A\n",
      "100%|██████████| 1/1 [05:05<00:00, 305.54s/it]"
     ]
    },
    {
     "name": "stdout",
     "output_type": "stream",
     "text": [
      "499\r"
     ]
    },
    {
     "name": "stderr",
     "output_type": "stream",
     "text": [
      "\n"
     ]
    }
   ],
   "source": [
    "df = random_search(param_grid)"
   ]
  },
  {
   "cell_type": "code",
   "execution_count": 305,
   "metadata": {},
   "outputs": [
    {
     "data": {
      "text/plain": [
       "{'num_tilings': 4, 'num_tiles': 4, 'iht_size': 50}"
      ]
     },
     "execution_count": 305,
     "metadata": {},
     "output_type": "execute_result"
    }
   ],
   "source": [
    "df['params'][0]"
   ]
  },
  {
   "cell_type": "code",
   "execution_count": 323,
   "metadata": {},
   "outputs": [
    {
     "data": {
      "text/plain": [
       "{'num_tilings': 4, 'num_tiles': 16, 'iht_size': 300}"
      ]
     },
     "execution_count": 323,
     "metadata": {},
     "output_type": "execute_result"
    }
   ],
   "source": [
    "df['params'][0]"
   ]
  },
  {
   "cell_type": "code",
   "execution_count": 339,
   "metadata": {},
   "outputs": [],
   "source": [
    "pd.options.display.width = 0\n",
    "pd.set_option(\"display.max_colwidth\", 100)"
   ]
  },
  {
   "cell_type": "code",
   "execution_count": 340,
   "metadata": {},
   "outputs": [
    {
     "data": {
      "text/html": [
       "<div>\n",
       "<style scoped>\n",
       "    .dataframe tbody tr th:only-of-type {\n",
       "        vertical-align: middle;\n",
       "    }\n",
       "\n",
       "    .dataframe tbody tr th {\n",
       "        vertical-align: top;\n",
       "    }\n",
       "\n",
       "    .dataframe thead th {\n",
       "        text-align: right;\n",
       "    }\n",
       "</style>\n",
       "<table border=\"1\" class=\"dataframe\">\n",
       "  <thead>\n",
       "    <tr style=\"text-align: right;\">\n",
       "      <th></th>\n",
       "      <th>index</th>\n",
       "      <th>score</th>\n",
       "      <th>params</th>\n",
       "      <th>iteration</th>\n",
       "    </tr>\n",
       "  </thead>\n",
       "  <tbody>\n",
       "    <tr>\n",
       "      <th>0</th>\n",
       "      <td>1</td>\n",
       "      <td>-292.966</td>\n",
       "      <td>{'num_tilings': 4, 'num_tiles': 16, 'iht_size': 300}</td>\n",
       "      <td>1</td>\n",
       "    </tr>\n",
       "    <tr>\n",
       "      <th>1</th>\n",
       "      <td>2</td>\n",
       "      <td>-309.017</td>\n",
       "      <td>{'num_tilings': 16, 'num_tiles': 16, 'iht_size': 500}</td>\n",
       "      <td>2</td>\n",
       "    </tr>\n",
       "    <tr>\n",
       "      <th>2</th>\n",
       "      <td>9</td>\n",
       "      <td>-318.191</td>\n",
       "      <td>{'num_tilings': 16, 'num_tiles': 4, 'iht_size': 200}</td>\n",
       "      <td>9</td>\n",
       "    </tr>\n",
       "    <tr>\n",
       "      <th>3</th>\n",
       "      <td>4</td>\n",
       "      <td>-340.208</td>\n",
       "      <td>{'num_tilings': 16, 'num_tiles': 16, 'iht_size': 400}</td>\n",
       "      <td>4</td>\n",
       "    </tr>\n",
       "    <tr>\n",
       "      <th>4</th>\n",
       "      <td>7</td>\n",
       "      <td>-393.223</td>\n",
       "      <td>{'num_tilings': 4, 'num_tiles': 32, 'iht_size': 100}</td>\n",
       "      <td>7</td>\n",
       "    </tr>\n",
       "    <tr>\n",
       "      <th>5</th>\n",
       "      <td>8</td>\n",
       "      <td>-424.884</td>\n",
       "      <td>{'num_tilings': 32, 'num_tiles': 4, 'iht_size': 100}</td>\n",
       "      <td>8</td>\n",
       "    </tr>\n",
       "    <tr>\n",
       "      <th>6</th>\n",
       "      <td>3</td>\n",
       "      <td>-443.488</td>\n",
       "      <td>{'num_tilings': 8, 'num_tiles': 32, 'iht_size': 100}</td>\n",
       "      <td>3</td>\n",
       "    </tr>\n",
       "    <tr>\n",
       "      <th>7</th>\n",
       "      <td>0</td>\n",
       "      <td>-477.57</td>\n",
       "      <td>{'num_tilings': 16, 'num_tiles': 8, 'iht_size': 50}</td>\n",
       "      <td>0</td>\n",
       "    </tr>\n",
       "    <tr>\n",
       "      <th>8</th>\n",
       "      <td>6</td>\n",
       "      <td>-477.57</td>\n",
       "      <td>{'num_tilings': 16, 'num_tiles': 8, 'iht_size': 50}</td>\n",
       "      <td>6</td>\n",
       "    </tr>\n",
       "    <tr>\n",
       "      <th>9</th>\n",
       "      <td>5</td>\n",
       "      <td>-487.632</td>\n",
       "      <td>{'num_tilings': 32, 'num_tiles': 32, 'iht_size': 300}</td>\n",
       "      <td>5</td>\n",
       "    </tr>\n",
       "  </tbody>\n",
       "</table>\n",
       "</div>"
      ],
      "text/plain": [
       "   index    score                                                 params  \\\n",
       "0      1 -292.966   {'num_tilings': 4, 'num_tiles': 16, 'iht_size': 300}   \n",
       "1      2 -309.017  {'num_tilings': 16, 'num_tiles': 16, 'iht_size': 500}   \n",
       "2      9 -318.191   {'num_tilings': 16, 'num_tiles': 4, 'iht_size': 200}   \n",
       "3      4 -340.208  {'num_tilings': 16, 'num_tiles': 16, 'iht_size': 400}   \n",
       "4      7 -393.223   {'num_tilings': 4, 'num_tiles': 32, 'iht_size': 100}   \n",
       "5      8 -424.884   {'num_tilings': 32, 'num_tiles': 4, 'iht_size': 100}   \n",
       "6      3 -443.488   {'num_tilings': 8, 'num_tiles': 32, 'iht_size': 100}   \n",
       "7      0  -477.57    {'num_tilings': 16, 'num_tiles': 8, 'iht_size': 50}   \n",
       "8      6  -477.57    {'num_tilings': 16, 'num_tiles': 8, 'iht_size': 50}   \n",
       "9      5 -487.632  {'num_tilings': 32, 'num_tiles': 32, 'iht_size': 300}   \n",
       "\n",
       "  iteration  \n",
       "0         1  \n",
       "1         2  \n",
       "2         9  \n",
       "3         4  \n",
       "4         7  \n",
       "5         8  \n",
       "6         3  \n",
       "7         0  \n",
       "8         6  \n",
       "9         5  "
      ]
     },
     "execution_count": 340,
     "metadata": {},
     "output_type": "execute_result"
    }
   ],
   "source": [
    "df"
   ]
  },
  {
   "cell_type": "markdown",
   "metadata": {},
   "source": [
    "### RNN sampling"
   ]
  },
  {
   "cell_type": "code",
   "execution_count": 82,
   "metadata": {},
   "outputs": [],
   "source": [
    "from buffer.sum_tree import SumTree"
   ]
  },
  {
   "cell_type": "code",
   "execution_count": 99,
   "metadata": {},
   "outputs": [],
   "source": [
    "tree = SumTree(20)"
   ]
  },
  {
   "cell_type": "code",
   "execution_count": 100,
   "metadata": {},
   "outputs": [],
   "source": [
    "for i in range(20):\n",
    "    tree.add(0.1,i)"
   ]
  },
  {
   "cell_type": "code",
   "execution_count": 104,
   "metadata": {},
   "outputs": [],
   "source": [
    "from buffer.prioritized_memory import Memory"
   ]
  },
  {
   "cell_type": "code",
   "execution_count": 105,
   "metadata": {},
   "outputs": [],
   "source": [
    "mem = Memory(20)"
   ]
  },
  {
   "cell_type": "code",
   "execution_count": 106,
   "metadata": {},
   "outputs": [],
   "source": [
    "for i in range(20):\n",
    "    mem.add(0.1,1,1,1,1)"
   ]
  },
  {
   "cell_type": "code",
   "execution_count": 107,
   "metadata": {},
   "outputs": [
    {
     "data": {
      "text/plain": [
       "(array([Transition(state=1, action=1, reward=1, hidden=1, discount=None),\n",
       "        Transition(state=1, action=1, reward=1, hidden=1, discount=None),\n",
       "        Transition(state=1, action=1, reward=1, hidden=1, discount=None),\n",
       "        Transition(state=1, action=1, reward=1, hidden=1, discount=None),\n",
       "        Transition(state=1, action=1, reward=1, hidden=1, discount=None),\n",
       "        Transition(state=1, action=1, reward=1, hidden=1, discount=None)],\n",
       "       dtype=object),\n",
       " [29, 30, 31, 32, 33, 34],\n",
       " array([1., 1., 1., 1., 1., 1.]))"
      ]
     },
     "execution_count": 107,
     "metadata": {},
     "output_type": "execute_result"
    }
   ],
   "source": [
    "mem.sample_successive(5)"
   ]
  },
  {
   "cell_type": "code",
   "execution_count": null,
   "metadata": {},
   "outputs": [],
   "source": []
  }
 ],
 "metadata": {
  "kernelspec": {
   "display_name": "Python 3",
   "language": "python",
   "name": "python3"
  },
  "language_info": {
   "codemirror_mode": {
    "name": "ipython",
    "version": 3
   },
   "file_extension": ".py",
   "mimetype": "text/x-python",
   "name": "python",
   "nbconvert_exporter": "python",
   "pygments_lexer": "ipython3",
   "version": "3.7.7"
  }
 },
 "nbformat": 4,
 "nbformat_minor": 4
}
